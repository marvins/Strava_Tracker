{
 "cells": [
  {
   "cell_type": "markdown",
   "metadata": {},
   "source": [
    "# Average Route Generation using a Genetic Algorithm\n",
    "\n",
    "This outlines the various GA steps used to construct the route. \n",
    "\n",
    "## Fitness Function\n",
    "\n",
    "* The goal of the fitness function is select routes which exhitit the most desirable characteristics\n",
    "  * Vertices should be in the tightest clusters of coordinates.  \n",
    "      * Vertices should be within the average of multiple routes.\n",
    "  * The route should be as short as possible to decrease loopbacks\n",
    "  * Route line segments should penalize regions without any points nearby.\n",
    "\n",
    "### General Algorithm\n",
    "\n",
    "* For every point\n",
    "    * Select the nearest line segment and it's distance to that segment\n",
    "        * Smaller distance the better\n",
    "* For every segment, \n",
    "    * Sum of point distances to the segment\n",
    "\n",
    "$$\n",
    "    \\textrm{F} = \\sum_{i=1}^{N_s} \\left| \\bar{S} \\right| \\cdot \\left( \\sum_{i=1}^{N_p} d( P, \\bar{S} ) \\right)\n",
    "$$\n",
    "\n",
    "where\n",
    "* $N_{\\bar{S}}$ is the number of line segments\n",
    "* $N_p$ is the number of points closest to the line segment\n",
    "* $d( P, \\bar{S})$ is the distance function from point $P$ to line-segment $\\bar{S}$.\n",
    "* $L_{\\bar{S}}$ is the length of line-segment $\\bar{S}$\n",
    "\n"
   ]
  },
  {
   "cell_type": "markdown",
   "metadata": {},
   "source": [
    "## Edge Cases"
   ]
  },
  {
   "cell_type": "code",
   "execution_count": 1,
   "metadata": {},
   "outputs": [
    {
     "name": "stdout",
     "output_type": "stream",
     "text": [
      "/bin/bash: -c: line 0: syntax error near unexpected token `images/loop_back.png'\n",
      "/bin/bash: -c: line 0: `[loop_back](images/loop_back.png)'\n"
     ]
    }
   ],
   "source": [
    "### Loop Backs\n",
    "\n",
    "![loop_back](images/loop_back.png)"
   ]
  }
 ],
 "metadata": {
  "kernelspec": {
   "display_name": "Python 3",
   "language": "python",
   "name": "python3"
  },
  "language_info": {
   "codemirror_mode": {
    "name": "ipython",
    "version": 3
   },
   "file_extension": ".py",
   "mimetype": "text/x-python",
   "name": "python",
   "nbconvert_exporter": "python",
   "pygments_lexer": "ipython3",
   "version": "3.8.6"
  },
  "widgets": {
   "application/vnd.jupyter.widget-state+json": {
    "state": {},
    "version_major": 2,
    "version_minor": 0
   }
  }
 },
 "nbformat": 4,
 "nbformat_minor": 4
}
