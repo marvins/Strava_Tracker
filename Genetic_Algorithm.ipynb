{
 "cells": [
  {
   "cell_type": "markdown",
   "metadata": {},
   "source": [
    "# Average Route Generation using Genetic Algorithms\n",
    "\n",
    "In order to compare different routes, we need to compute an \"average\" route, then compare every dataset against it.  \n",
    "\n",
    "To do this, I have created a C++ genetic algorithm which seeks to find the \"optimal\" route through a cloud of GPS coordinates.\n",
    "\n",
    "## Fitness Function\n",
    "\n",
    "* The goal of the fitness function is select routes which exhitit the most desirable characteristics\n",
    "  * Vertices should be in the tightest clusters of coordinates.  \n",
    "      * Vertices should be within the average of multiple routes.\n",
    "      * i.e. The route should be within the polygon.\n",
    "  * The route should be as short as possible to decrease loopbacks\n",
    "  * Route line segments should penalize regions without any points nearby.\n",
    "\n",
    "### General Algorithm\n",
    "\n",
    "* For every point\n",
    "    * Select the nearest line segment and it's distance to that segment\n",
    "        * Smaller distance the better\n",
    "* For every segment, \n",
    "    * Sum of point distances to the segment\n",
    "\n",
    "$$\n",
    "    \\textrm{F} = L_{\\bar{S}} \\cdot \\sum_{i=1}^{N_\\bar{S}} \\min_{\\forall p \\in P} \\left( d(p,S_i) \\right)\n",
    "$$\n",
    "\n",
    "where\n",
    "* $P$ is the set of points in the point cloud.\n",
    "* $N_{\\bar{S}}$ is the number of line segments\n",
    "* $d( P, \\bar{S})$ is the distance function from point $P$ to line-segment $\\bar{S}_i$.\n",
    "* $L_{\\bar{S}}$ is the length of line-segment $\\bar{S}$\n",
    "\n"
   ]
  },
  {
   "cell_type": "markdown",
   "metadata": {},
   "source": [
    "## Genetic Algorithm Overview\n",
    "\n",
    "Genetic Algorithms work by taking a large population (sample solutions) and iteratively tweaking them until a best solution starts to emerge.  The process can generally be described with the following stages.\n",
    "\n",
    "### Phenotype Construction\n",
    "Each Phenotype is constructed as a chain of vertices.  Each vertex contains and X and Y component.  For a Phenotype of N waypoints, it would be constructed as\n",
    "\n",
    "![phenotype|40%](./images/phenotype.png)\n",
    "\n",
    "\n",
    "### Generate Initial Population\n",
    "\n",
    "### Preservation\n",
    "\n",
    "### Selection\n",
    "\n",
    "### Crossover\n",
    "\n",
    "### Mutation\n",
    "\n",
    "### Process Duplicates\n",
    "\n"
   ]
  },
  {
   "cell_type": "code",
   "execution_count": null,
   "metadata": {},
   "outputs": [],
   "source": []
  }
 ],
 "metadata": {
  "kernelspec": {
   "display_name": "Python 3",
   "language": "python",
   "name": "python3"
  },
  "language_info": {
   "codemirror_mode": {
    "name": "ipython",
    "version": 3
   },
   "file_extension": ".py",
   "mimetype": "text/x-python",
   "name": "python",
   "nbconvert_exporter": "python",
   "pygments_lexer": "ipython3",
   "version": "3.8.6"
  },
  "widgets": {
   "application/vnd.jupyter.widget-state+json": {
    "state": {},
    "version_major": 2,
    "version_minor": 0
   }
  }
 },
 "nbformat": 4,
 "nbformat_minor": 4
}
